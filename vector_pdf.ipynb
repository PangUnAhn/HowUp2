{
 "cells": [
  {
   "cell_type": "code",
   "execution_count": null,
   "metadata": {},
   "outputs": [],
   "source": [
    "from langchain_community.vectorstores import FAISS\n",
    "from langchain_core.documents import Document\n",
    "from langchain_openai import OpenAIEmbeddings\n",
    "import pdfplumber\n",
    "import re\n",
    "import os\n",
    "from dotenv import load_dotenv\n",
    "\n",
    "# 환경변수 불러오기\n",
    "load_dotenv()"
   ]
  },
  {
   "cell_type": "markdown",
   "metadata": {},
   "source": [
    "#### File 불러오기"
   ]
  },
  {
   "cell_type": "code",
   "execution_count": null,
   "metadata": {},
   "outputs": [],
   "source": [
    "# 파일 경로 지정\n",
    "file_path = 'KIET_경제ㆍ산업_전망_2023-02(2)__2024년_경제산업_전망_13대_주력산업편.pdf'"
   ]
  },
  {
   "cell_type": "markdown",
   "metadata": {},
   "source": [
    "#### PDF 파일 Page 별 Split"
   ]
  },
  {
   "cell_type": "code",
   "execution_count": null,
   "metadata": {},
   "outputs": [],
   "source": [
    "# pdf 파일 페이지별 split 함수\n",
    "def chunk_pdf_with_pdfplumber(file_path, start_page, end_page):\n",
    "    chunks = []\n",
    "    \n",
    "    with pdfplumber.open(file_path) as pdf:\n",
    "        # 주어진 페이지 범위에 해당하는 페이지들을 처리합니다.\n",
    "        for page_num in range(start_page - 1, end_page):\n",
    "            page = pdf.pages[page_num]\n",
    "            text = page.extract_text()\n",
    "            if text:\n",
    "                # 이스케이프 문자와 '<숫자-숫자>' 형태의 문구 제거\n",
    "                cleaned_text = re.sub(r'\\n|\\r|\\t', ' ', text)  # 이스케이프 문자 제거\n",
    "                cleaned_text = re.sub(r'표<\\d+-\\d+>', '', cleaned_text)  # '<숫자-숫자>' 형태 제거\n",
    "                cleaned_text = re.sub(r'<(그림|표) \\d+-\\d+>', '', cleaned_text)  # '<그림 숫자-숫자>', '<표 숫자-숫자>' 형태 제거\n",
    "                chunks.append(cleaned_text.strip())\n",
    "                \n",
    "\n",
    "    return chunks\n",
    "\n",
    "# 특정 페이지 범위 설정 (예: 13페이지부터 뒤에서 4페이지까지)\n",
    "file_path = \"경제산업동향_2024_11_2r_(2).pdf\"\n",
    "start_page = 3\n",
    "end_page = -2  # 뒤에서 4페이지까지 의미\n",
    "\n",
    "# PDF 페이지 수를 파악해 범위를 계산\n",
    "with pdfplumber.open(file_path) as pdf:\n",
    "    total_pages = len(pdf.pages)\n",
    "    if end_page < 0:\n",
    "        end_page = total_pages + end_page + 1  # 뒤에서부터 페이지 수 계산\n",
    "\n",
    "# split 한 페이지 텍스트 document 형식으로 변환\n",
    "chunks = [Document(page_content=doc) for doc in chunk_pdf_with_pdfplumber(file_path, start_page, end_page)]"
   ]
  },
  {
   "cell_type": "code",
   "execution_count": null,
   "metadata": {},
   "outputs": [],
   "source": [
    "chunks"
   ]
  },
  {
   "cell_type": "markdown",
   "metadata": {},
   "source": [
    "#### Local FAISS에 Chunk 저장"
   ]
  },
  {
   "cell_type": "code",
   "execution_count": null,
   "metadata": {},
   "outputs": [],
   "source": [
    "from langchain.embeddings import OpenAIEmbeddings\n",
    "\n",
    "# 벡터 db 생성\n",
    "vectorstore = FAISS.from_documents(documents=chunks, embedding=OpenAIEmbeddings())\n",
    "\n",
    "# 로컬에 db 저장\n",
    "vectorstore.save_local('./db/faiss')"
   ]
  }
 ],
 "metadata": {
  "kernelspec": {
   "display_name": "project_env",
   "language": "python",
   "name": "python3"
  },
  "language_info": {
   "codemirror_mode": {
    "name": "ipython",
    "version": 3
   },
   "file_extension": ".py",
   "mimetype": "text/x-python",
   "name": "python",
   "nbconvert_exporter": "python",
   "pygments_lexer": "ipython3",
   "version": "3.11.10"
  }
 },
 "nbformat": 4,
 "nbformat_minor": 2
}
